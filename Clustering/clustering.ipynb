{
 "cells": [
  {
   "cell_type": "code",
   "execution_count": 1,
   "metadata": {
    "ExecuteTime": {
     "end_time": "2019-08-08T05:37:38.992179Z",
     "start_time": "2019-08-08T05:37:24.246340Z"
    },
    "pycharm": {
     "is_executing": false
    }
   },
   "outputs": [],
   "source": [
    "import pandas as pd\n",
    "from scipy.cluster import hierarchy\n",
    "from sklearn.cluster import AgglomerativeClustering\n",
    "import matplotlib.pyplot as plt\n",
    "from sklearn.cluster import KMeans"
   ]
  },
  {
   "cell_type": "code",
   "execution_count": 2,
   "metadata": {
    "ExecuteTime": {
     "end_time": "2019-08-08T05:37:40.402277Z",
     "start_time": "2019-08-08T05:37:40.247853Z"
    }
   },
   "outputs": [],
   "source": [
    "m1 = pd.read_csv('../M1_Full.csv')\n",
    "m2 = pd.read_csv('../M2_Full.csv')\n",
    "m1['Crime_Num'] = m1['Crime_Num'].fillna(m1['Crime_Num'].median())\n",
    "m2['Crime_Num'] = m2['Crime_Num'].fillna(m2['Crime_Num'].median())"
   ]
  },
  {
   "cell_type": "code",
   "execution_count": 3,
   "metadata": {
    "ExecuteTime": {
     "end_time": "2019-08-08T05:37:42.677151Z",
     "start_time": "2019-08-08T05:37:42.643634Z"
    },
    "pycharm": {
     "is_executing": false,
     "name": "#%%\n"
    }
   },
   "outputs": [],
   "source": [
    "y_m1 = m1['Parcel_Number']\n",
    "y_m2 = m2['Parcel_Number']\n",
    "x_m1 = m1.drop(columns = ['Parcel_Number'])\n",
    "x_m2 = m2.drop(columns = ['Parcel_Number'])"
   ]
  },
  {
   "cell_type": "code",
   "execution_count": 4,
   "metadata": {
    "ExecuteTime": {
     "end_time": "2019-08-08T05:37:45.096507Z",
     "start_time": "2019-08-08T05:37:45.008742Z"
    },
    "pycharm": {
     "is_executing": false,
     "name": "#%%\n"
    }
   },
   "outputs": [],
   "source": [
    "from sklearn.preprocessing import StandardScaler\n",
    "scaler = StandardScaler()  \n",
    "scaler.fit(x_m1.astype(float))\n",
    "x_m1_normal = scaler.transform(x_m1.astype(float))\n",
    "scaler.fit(x_m2.astype(float))\n",
    "x_m2_normal = scaler.transform(x_m2.astype(float))"
   ]
  },
  {
   "cell_type": "markdown",
   "metadata": {},
   "source": [
    "Complete M1"
   ]
  },
  {
   "cell_type": "code",
   "execution_count": null,
   "metadata": {
    "ExecuteTime": {
     "end_time": "2019-08-06T21:38:52.866022Z",
     "start_time": "2019-08-06T21:31:10.365187Z"
    },
    "pycharm": {
     "is_executing": false,
     "name": "#%%\n"
    }
   },
   "outputs": [],
   "source": [
    "HClustering = AgglomerativeClustering(affinity='euclidean', linkage='complete', n_clusters=3).fit(x_m1_normal)\n",
    "y_HClustering = HClustering.fit_predict(x_m1_normal)\n",
    "Z = hierarchy.linkage(x_m1_normal, 'complete')\n",
    "plt.figure(figsize=(20,10))\n",
    "dn = hierarchy.dendrogram(Z)\n",
    "plt.show()"
   ]
  },
  {
   "cell_type": "code",
   "execution_count": null,
   "metadata": {
    "ExecuteTime": {
     "end_time": "2019-08-01T08:50:44.553063Z",
     "start_time": "2019-08-01T08:50:44.537407Z"
    },
    "pycharm": {
     "is_executing": false,
     "name": "#%%\n"
    }
   },
   "outputs": [],
   "source": [
    "m1_c1 = m1.Parcel_Number[y_HClustering ==0]\n",
    "m1_c2 = m1.Parcel_Number[y_HClustering ==1]\n",
    "m1_c3 = m1.Parcel_Number[y_HClustering ==2]\n"
   ]
  },
  {
   "cell_type": "code",
   "execution_count": null,
   "metadata": {
    "ExecuteTime": {
     "end_time": "2019-08-01T08:54:30.365767Z",
     "start_time": "2019-08-01T08:54:30.335920Z"
    }
   },
   "outputs": [],
   "source": [
    "m1_c1_set = set(m1_c1)\n",
    "m1_c2_set = set(m1_c2)\n",
    "m1_c3_set = set(m1_c3)\n",
    "\n",
    "m1_c1 = m1[m1['Parcel_Number'].isin(m1_c1_set)]\n",
    "m1_c2 = m1[m1['Parcel_Number'].isin(m1_c2_set)]\n",
    "m1_c3 = m1[m1['Parcel_Number'].isin(m1_c3_set)]"
   ]
  },
  {
   "cell_type": "code",
   "execution_count": null,
   "metadata": {
    "ExecuteTime": {
     "end_time": "2019-08-01T08:56:08.048806Z",
     "start_time": "2019-08-01T08:56:07.426603Z"
    }
   },
   "outputs": [],
   "source": [
    "m1_c1.to_csv('m1_c1.csv',index=False)\n",
    "m1_c2.to_csv('m1_c2.csv',index=False)\n",
    "m1_c3.to_csv('m1_c3.csv',index=False)"
   ]
  },
  {
   "cell_type": "markdown",
   "metadata": {},
   "source": [
    "Complete M2"
   ]
  },
  {
   "cell_type": "code",
   "execution_count": null,
   "metadata": {
    "ExecuteTime": {
     "end_time": "2019-08-06T21:50:28.490400Z",
     "start_time": "2019-08-06T21:44:35.969593Z"
    }
   },
   "outputs": [],
   "source": [
    "HClustering = AgglomerativeClustering(affinity='euclidean', linkage='complete', n_clusters=3).fit(x_m2_normal)\n",
    "y_HClustering = HClustering.fit_predict(x_m2_normal)\n",
    "Z = hierarchy.linkage(x_m2_normal, 'complete')\n",
    "plt.figure(figsize=(20,10))\n",
    "dn = hierarchy.dendrogram(Z)\n",
    "plt.show()"
   ]
  },
  {
   "cell_type": "code",
   "execution_count": null,
   "metadata": {
    "ExecuteTime": {
     "end_time": "2019-08-01T09:06:05.859450Z",
     "start_time": "2019-08-01T09:06:05.816880Z"
    }
   },
   "outputs": [],
   "source": [
    "m2_c1 = m2.Parcel_Number[y_HClustering ==0]\n",
    "m2_c2 = m2.Parcel_Number[y_HClustering ==1]\n",
    "m2_c3 = m2.Parcel_Number[y_HClustering ==2]"
   ]
  },
  {
   "cell_type": "code",
   "execution_count": null,
   "metadata": {
    "ExecuteTime": {
     "end_time": "2019-08-01T09:06:07.872912Z",
     "start_time": "2019-08-01T09:06:07.854964Z"
    }
   },
   "outputs": [],
   "source": [
    "m2_c1_set = set(m2_c1)\n",
    "m2_c2_set = set(m2_c2)\n",
    "m2_c3_set = set(m2_c3)\n",
    "\n",
    "m2_c1 = m2[m2['Parcel_Number'].isin(m2_c1_set)]\n",
    "m2_c2 = m2[m2['Parcel_Number'].isin(m2_c2_set)]\n",
    "m2_c3 = m2[m2['Parcel_Number'].isin(m2_c3_set)]"
   ]
  },
  {
   "cell_type": "code",
   "execution_count": null,
   "metadata": {
    "ExecuteTime": {
     "end_time": "2019-08-01T09:06:18.033310Z",
     "start_time": "2019-08-01T09:06:17.640044Z"
    }
   },
   "outputs": [],
   "source": [
    "m2_c1.to_csv('m2_c1.csv',index=False)\n",
    "m2_c2.to_csv('m2_c2.csv',index=False)\n",
    "m2_c3.to_csv('m2_c3.csv',index=False)"
   ]
  },
  {
   "cell_type": "markdown",
   "metadata": {},
   "source": [
    "Average M1"
   ]
  },
  {
   "cell_type": "code",
   "execution_count": null,
   "metadata": {
    "ExecuteTime": {
     "end_time": "2019-08-06T20:51:59.229001Z",
     "start_time": "2019-08-06T20:45:22.383189Z"
    },
    "pycharm": {
     "is_executing": false,
     "name": "#%%\n"
    }
   },
   "outputs": [],
   "source": [
    "HClustering = AgglomerativeClustering(affinity='euclidean', linkage='average', n_clusters=3).fit(x_m1_normal)\n",
    "y_HClustering = HClustering.fit_predict(x_m1_normal)\n",
    "Z = hierarchy.linkage(x_m1_normal, 'average')\n",
    "plt.figure(figsize=(20,10))\n",
    "dn = hierarchy.dendrogram(Z)\n",
    "plt.show()"
   ]
  },
  {
   "cell_type": "code",
   "execution_count": null,
   "metadata": {
    "ExecuteTime": {
     "end_time": "2019-08-06T20:52:31.908047Z",
     "start_time": "2019-08-06T20:52:31.892429Z"
    },
    "pycharm": {
     "is_executing": false,
     "name": "#%%\n"
    }
   },
   "outputs": [],
   "source": [
    "m1_c1 = m1.Parcel_Number[y_HClustering ==0]\n",
    "m1_c2 = m1.Parcel_Number[y_HClustering ==1]\n",
    "m1_c3 = m1.Parcel_Number[y_HClustering ==2]\n"
   ]
  },
  {
   "cell_type": "code",
   "execution_count": null,
   "metadata": {
    "ExecuteTime": {
     "end_time": "2019-08-06T20:52:33.931604Z",
     "start_time": "2019-08-06T20:52:33.900364Z"
    }
   },
   "outputs": [],
   "source": [
    "m1_c1_set = set(m1_c1)\n",
    "m1_c2_set = set(m1_c2)\n",
    "m1_c3_set = set(m1_c3)\n",
    "\n",
    "m1_c1 = m1[m1['Parcel_Number'].isin(m1_c1_set)]\n",
    "m1_c2 = m1[m1['Parcel_Number'].isin(m1_c2_set)]\n",
    "m1_c3 = m1[m1['Parcel_Number'].isin(m1_c3_set)]"
   ]
  },
  {
   "cell_type": "code",
   "execution_count": null,
   "metadata": {
    "ExecuteTime": {
     "end_time": "2019-08-06T20:52:36.515469Z",
     "start_time": "2019-08-06T20:52:36.041524Z"
    }
   },
   "outputs": [],
   "source": [
    "m1_c1.to_csv('m1_c1_average.csv',index=False)\n",
    "m1_c2.to_csv('m1_c2_average.csv',index=False)\n",
    "m1_c3.to_csv('m1_c3_average.csv',index=False)"
   ]
  },
  {
   "cell_type": "markdown",
   "metadata": {},
   "source": [
    "Average M2"
   ]
  },
  {
   "cell_type": "code",
   "execution_count": null,
   "metadata": {
    "ExecuteTime": {
     "end_time": "2019-08-06T20:58:47.133810Z",
     "start_time": "2019-08-06T20:52:38.434099Z"
    },
    "scrolled": false
   },
   "outputs": [],
   "source": [
    "HClustering = AgglomerativeClustering(affinity='euclidean', linkage='average', n_clusters=3).fit(x_m2_normal)\n",
    "y_HClustering = HClustering.fit_predict(x_m2_normal)\n",
    "Z = hierarchy.linkage(x_m2_normal, 'average')\n",
    "plt.figure(figsize=(20,10))\n",
    "dn = hierarchy.dendrogram(Z)\n",
    "plt.show()"
   ]
  },
  {
   "cell_type": "code",
   "execution_count": null,
   "metadata": {
    "ExecuteTime": {
     "end_time": "2019-08-06T20:59:56.631483Z",
     "start_time": "2019-08-06T20:59:56.615823Z"
    }
   },
   "outputs": [],
   "source": [
    "m2_c1 = m2.Parcel_Number[y_HClustering ==0]\n",
    "m2_c2 = m2.Parcel_Number[y_HClustering ==1]\n",
    "m2_c3 = m2.Parcel_Number[y_HClustering ==2]"
   ]
  },
  {
   "cell_type": "code",
   "execution_count": null,
   "metadata": {
    "ExecuteTime": {
     "end_time": "2019-08-06T20:59:59.695262Z",
     "start_time": "2019-08-06T20:59:59.664051Z"
    }
   },
   "outputs": [],
   "source": [
    "m2_c1_set = set(m2_c1)\n",
    "m2_c2_set = set(m2_c2)\n",
    "m2_c3_set = set(m2_c3)\n",
    "\n",
    "m2_c1 = m2[m2['Parcel_Number'].isin(m2_c1_set)]\n",
    "m2_c2 = m2[m2['Parcel_Number'].isin(m2_c2_set)]\n",
    "m2_c3 = m2[m2['Parcel_Number'].isin(m2_c3_set)]"
   ]
  },
  {
   "cell_type": "code",
   "execution_count": null,
   "metadata": {
    "ExecuteTime": {
     "end_time": "2019-08-06T21:00:02.174242Z",
     "start_time": "2019-08-06T21:00:01.768078Z"
    }
   },
   "outputs": [],
   "source": [
    "m2_c1.to_csv('m2_c1_average.csv',index=False)\n",
    "m2_c2.to_csv('m2_c2_average.csv',index=False)\n",
    "m2_c3.to_csv('m2_c3_average.csv',index=False)"
   ]
  },
  {
   "cell_type": "markdown",
   "metadata": {},
   "source": [
    "K-Means - 3 clusters"
   ]
  },
  {
   "cell_type": "code",
   "execution_count": null,
   "metadata": {
    "ExecuteTime": {
     "end_time": "2019-08-06T21:23:08.749827Z",
     "start_time": "2019-08-06T21:23:07.437641Z"
    }
   },
   "outputs": [],
   "source": [
    "kmeans = KMeans(n_clusters=3)\n",
    "kmeans.fit(m1)\n",
    "y_kmeans = kmeans.predict(m1)\n",
    "\n",
    "\n",
    "m1_c1_kmean = m1[y_kmeans == 0]\n",
    "m1_c2_kmean = m1[y_kmeans == 1]\n",
    "m1_c3_kmean = m1[y_kmeans == 2]\n",
    "\n",
    "\n",
    "m1_c1_kmean.to_csv('m1_c1_kmean.csv',index=False)\n",
    "m1_c2_kmean.to_csv('m1_c2_kmean.csv',index=False)\n",
    "m1_c3_kmean.to_csv('m1_c3_kmean.csv',index=False)"
   ]
  },
  {
   "cell_type": "code",
   "execution_count": null,
   "metadata": {
    "ExecuteTime": {
     "end_time": "2019-08-06T21:25:23.053924Z",
     "start_time": "2019-08-06T21:25:22.337729Z"
    }
   },
   "outputs": [],
   "source": [
    "kmeans = KMeans(n_clusters=3)\n",
    "kmeans.fit(m2)\n",
    "y_kmeans = kmeans.predict(m2)\n",
    "\n",
    "\n",
    "m2_c1_kmean = m2[y_kmeans == 0]\n",
    "m2_c2_kmean = m2[y_kmeans == 1]\n",
    "m2_c3_kmean = m2[y_kmeans == 2]\n",
    "\n",
    "\n",
    "m2_c1_kmean.to_csv('m2_c1_kmean.csv',index=False)\n",
    "m2_c2_kmean.to_csv('m2_c2_kmean.csv',index=False)\n",
    "m2_c3_kmean.to_csv('m2_c3_kmean.csv',index=False)"
   ]
  },
  {
   "cell_type": "markdown",
   "metadata": {},
   "source": [
    "K-Means - 5 clusters"
   ]
  },
  {
   "cell_type": "code",
   "execution_count": 6,
   "metadata": {
    "ExecuteTime": {
     "end_time": "2019-08-08T05:40:25.715788Z",
     "start_time": "2019-08-08T05:40:24.377501Z"
    }
   },
   "outputs": [],
   "source": [
    "kmeans = KMeans(n_clusters=5)\n",
    "kmeans.fit(m1)\n",
    "y_kmeans = kmeans.predict(m1)\n",
    "\n",
    "\n",
    "m1_c1_kmean = m1[y_kmeans == 0]\n",
    "m1_c2_kmean = m1[y_kmeans == 1]\n",
    "m1_c3_kmean = m1[y_kmeans == 2]\n",
    "m1_c4_kmean = m1[y_kmeans == 3]\n",
    "m1_c5_kmean = m1[y_kmeans == 4]\n",
    "\n",
    "\n",
    "m1_c1_kmean.to_csv('m1_c1_kmean.csv',index=False)\n",
    "m1_c2_kmean.to_csv('m1_c2_kmean.csv',index=False)\n",
    "m1_c3_kmean.to_csv('m1_c3_kmean.csv',index=False)\n",
    "m1_c4_kmean.to_csv('m1_c4_kmean.csv',index=False)\n",
    "m1_c5_kmean.to_csv('m1_c5_kmean.csv',index=False)"
   ]
  },
  {
   "cell_type": "code",
   "execution_count": 7,
   "metadata": {
    "ExecuteTime": {
     "end_time": "2019-08-08T05:42:18.813298Z",
     "start_time": "2019-08-08T05:42:18.104098Z"
    }
   },
   "outputs": [],
   "source": [
    "kmeans = KMeans(n_clusters=5)\n",
    "kmeans.fit(m2)\n",
    "y_kmeans = kmeans.predict(m2)\n",
    "\n",
    "\n",
    "m2_c1_kmean = m2[y_kmeans == 0]\n",
    "m2_c2_kmean = m2[y_kmeans == 1]\n",
    "m2_c3_kmean = m2[y_kmeans == 2]\n",
    "m2_c4_kmean = m2[y_kmeans == 3]\n",
    "m2_c5_kmean = m2[y_kmeans == 4]\n",
    "\n",
    "\n",
    "m2_c1_kmean.to_csv('m2_c1_kmean.csv',index=False)\n",
    "m2_c2_kmean.to_csv('m2_c2_kmean.csv',index=False)\n",
    "m2_c3_kmean.to_csv('m2_c3_kmean.csv',index=False)\n",
    "m2_c4_kmean.to_csv('m2_c4_kmean.csv',index=False)\n",
    "m2_c5_kmean.to_csv('m2_c5_kmean.csv',index=False)"
   ]
  },
  {
   "cell_type": "code",
   "execution_count": null,
   "metadata": {},
   "outputs": [],
   "source": []
  }
 ],
 "metadata": {
  "kernelspec": {
   "display_name": "Python 3",
   "language": "python",
   "name": "python3"
  },
  "language_info": {
   "codemirror_mode": {
    "name": "ipython",
    "version": 3
   },
   "file_extension": ".py",
   "mimetype": "text/x-python",
   "name": "python",
   "nbconvert_exporter": "python",
   "pygments_lexer": "ipython3",
   "version": "3.7.3"
  },
  "pycharm": {
   "stem_cell": {
    "cell_type": "raw",
    "metadata": {
     "collapsed": false
    },
    "source": []
   }
  },
  "toc": {
   "base_numbering": 1,
   "nav_menu": {},
   "number_sections": true,
   "sideBar": true,
   "skip_h1_title": false,
   "title_cell": "Table of Contents",
   "title_sidebar": "Contents",
   "toc_cell": false,
   "toc_position": {},
   "toc_section_display": true,
   "toc_window_display": false
  },
  "varInspector": {
   "cols": {
    "lenName": 16,
    "lenType": 16,
    "lenVar": 40
   },
   "kernels_config": {
    "python": {
     "delete_cmd_postfix": "",
     "delete_cmd_prefix": "del ",
     "library": "var_list.py",
     "varRefreshCmd": "print(var_dic_list())"
    },
    "r": {
     "delete_cmd_postfix": ") ",
     "delete_cmd_prefix": "rm(",
     "library": "var_list.r",
     "varRefreshCmd": "cat(var_dic_list()) "
    }
   },
   "types_to_exclude": [
    "module",
    "function",
    "builtin_function_or_method",
    "instance",
    "_Feature"
   ],
   "window_display": false
  }
 },
 "nbformat": 4,
 "nbformat_minor": 1
}
